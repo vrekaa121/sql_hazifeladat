{
    "metadata": {
        "kernelspec": {
            "name": "SQL",
            "display_name": "SQL",
            "language": "sql"
        },
        "language_info": {
            "name": "sql",
            "version": ""
        }
    },
    "nbformat_minor": 2,
    "nbformat": 4,
    "cells": [
        {
            "cell_type": "code",
            "source": [
                "SELECT COUNT(*) AS 'Sorok száma',\r\n",
                "        COUNT(CASE \r\n",
                "                WHEN LEIRAS IS NULL THEN 1\r\n",
                "            END) AS 'Null értékek száma',\r\n",
                "        COUNT(*) - COUNT(CASE \r\n",
                "                            WHEN LEIRAS IS NULL THEN 1\r\n",
                "                        END) AS 'Nem null',\r\n",
                "        ROUND((COUNT(CASE \r\n",
                "                    WHEN LEIRAS IS NULL THEN 1\r\n",
                "                END) * 100.0 / COUNT(*)), 0) AS 'Null százalékos aránya'         \r\n",
                "FROM Termek"
            ],
            "metadata": {
                "azdata_cell_guid": "5cca771e-5744-4fa6-93ac-0815dd208d1f",
                "language": "sql",
                "tags": []
            },
            "outputs": [
                {
                    "output_type": "display_data",
                    "data": {
                        "text/html": "Warning: Null value is eliminated by an aggregate or other SET operation."
                    },
                    "metadata": {}
                },
                {
                    "output_type": "display_data",
                    "data": {
                        "text/html": "(1 row affected)"
                    },
                    "metadata": {}
                },
                {
                    "output_type": "display_data",
                    "data": {
                        "text/html": "Total execution time: 00:00:00.107"
                    },
                    "metadata": {}
                },
                {
                    "output_type": "execute_result",
                    "metadata": {},
                    "execution_count": 1,
                    "data": {
                        "application/vnd.dataresource+json": {
                            "schema": {
                                "fields": [
                                    {
                                        "name": "Sorok száma"
                                    },
                                    {
                                        "name": "Null értékek száma"
                                    },
                                    {
                                        "name": "Nem null"
                                    },
                                    {
                                        "name": "Null százalékos aránya"
                                    }
                                ]
                            },
                            "data": [
                                {
                                    "Sorok száma": "551",
                                    "Null értékek száma": "527",
                                    "Nem null": "24",
                                    "Null százalékos aránya": "96.000000000000"
                                }
                            ]
                        },
                        "text/html": [
                            "<table>",
                            "<tr><th>Sorok száma</th><th>Null értékek száma</th><th>Nem null</th><th>Null százalékos aránya</th></tr>",
                            "<tr><td>551</td><td>527</td><td>24</td><td>96.000000000000</td></tr>",
                            "</table>"
                        ]
                    }
                }
            ],
            "execution_count": 1
        },
        {
            "cell_type": "code",
            "source": [
                "SELECT COUNT(DISTINCT KESZLET) AS 'Egyedi értékek száma',\r\n",
                "        COUNT(KESZLET) AS 'Összes értékek száma',\r\n",
                "        ROUND(AVG(KESZLET),2) AS 'Átlag készlet',\r\n",
                "        ROUND(STDEV(KESZLET), 2) AS 'Készlet szórása',\r\n",
                "        COUNT(CASE \r\n",
                "                 WHEN KESZLET IS NULL THEN 1\r\n",
                "            END) AS 'Null értékek száma'\r\n",
                "FROM Termek"
            ],
            "metadata": {
                "azdata_cell_guid": "1b8438ea-4bbb-44e0-8742-a85c30b4e1d5",
                "language": "sql",
                "tags": []
            },
            "outputs": [
                {
                    "output_type": "display_data",
                    "data": {
                        "text/html": "Warning: Null value is eliminated by an aggregate or other SET operation."
                    },
                    "metadata": {}
                },
                {
                    "output_type": "display_data",
                    "data": {
                        "text/html": "(1 row affected)"
                    },
                    "metadata": {}
                },
                {
                    "output_type": "display_data",
                    "data": {
                        "text/html": "Total execution time: 00:00:00.023"
                    },
                    "metadata": {}
                },
                {
                    "output_type": "execute_result",
                    "execution_count": 67,
                    "data": {
                        "application/vnd.dataresource+json": {
                            "schema": {
                                "fields": [
                                    {
                                        "name": "Egyedi értékek száma"
                                    },
                                    {
                                        "name": "Összes értékek száma"
                                    },
                                    {
                                        "name": "Átlag készlet"
                                    },
                                    {
                                        "name": "Készlet szórása"
                                    },
                                    {
                                        "name": "Null értékek száma"
                                    }
                                ]
                            },
                            "data": [
                                {
                                    "Egyedi értékek száma": "100",
                                    "Összes értékek száma": "551",
                                    "Átlag készlet": "1585,99",
                                    "Készlet szórása": "4604,39",
                                    "Null értékek száma": "0"
                                }
                            ]
                        },
                        "text/html": "<table><tr><th>Egyedi értékek száma</th><th>Összes értékek száma</th><th>Átlag készlet</th><th>Készlet szórása</th><th>Null értékek száma</th></tr><tr><td>100</td><td>551</td><td>1585,99</td><td>4604,39</td><td>0</td></tr></table>"
                    },
                    "metadata": {}
                }
            ],
            "execution_count": 67
        },
        {
            "cell_type": "code",
            "source": [
                "SELECT TOP 5 MIN(KESZLET) AS 'Min készlet',\r\n",
                "       MEGNEVEZES AS 'Termék neve'\r\n",
                "FROM Termek\r\n",
                "GROUP BY MEGNEVEZES\r\n",
                "ORDER BY [Min készlet]"
            ],
            "metadata": {
                "azdata_cell_guid": "e628e2f6-fc33-41c4-bf4b-9c6e00fe4f05",
                "language": "sql"
            },
            "outputs": [
                {
                    "output_type": "display_data",
                    "data": {
                        "text/html": "(5 rows affected)"
                    },
                    "metadata": {}
                },
                {
                    "output_type": "display_data",
                    "data": {
                        "text/html": "Total execution time: 00:00:00.023"
                    },
                    "metadata": {}
                },
                {
                    "output_type": "execute_result",
                    "execution_count": 59,
                    "data": {
                        "application/vnd.dataresource+json": {
                            "schema": {
                                "fields": [
                                    {
                                        "name": "Min készlet"
                                    },
                                    {
                                        "name": "Termék neve"
                                    }
                                ]
                            },
                            "data": [
                                {
                                    "Min készlet": "0",
                                    "Termék neve": "Leckefüzet"
                                },
                                {
                                    "Min készlet": "0",
                                    "Termék neve": "Rovatolt papír 20 íves"
                                },
                                {
                                    "Min készlet": "53",
                                    "Termék neve": "női alsó"
                                },
                                {
                                    "Min készlet": "77",
                                    "Termék neve": "női szövet kabát"
                                },
                                {
                                    "Min készlet": "77",
                                    "Termék neve": "sál"
                                }
                            ]
                        },
                        "text/html": "<table><tr><th>Min készlet</th><th>Termék neve</th></tr><tr><td>0</td><td>Leckefüzet</td></tr><tr><td>0</td><td>Rovatolt papír 20 íves</td></tr><tr><td>53</td><td>női alsó</td></tr><tr><td>77</td><td>női szövet kabát</td></tr><tr><td>77</td><td>sál</td></tr></table>"
                    },
                    "metadata": {}
                }
            ],
            "execution_count": 59
        },
        {
            "cell_type": "code",
            "source": [
                "SELECT TOP 5 MAX(KESZLET) AS 'Max készlet',\r\n",
                "       MEGNEVEZES AS 'Termék neve'\r\n",
                "FROM Termek\r\n",
                "GROUP BY MEGNEVEZES\r\n",
                "ORDER BY [Max készlet] DESC"
            ],
            "metadata": {
                "azdata_cell_guid": "b7d6ac54-d85b-4558-b9c1-26cc1dfe9df0",
                "language": "sql"
            },
            "outputs": [
                {
                    "output_type": "display_data",
                    "data": {
                        "text/html": "(5 rows affected)"
                    },
                    "metadata": {}
                },
                {
                    "output_type": "display_data",
                    "data": {
                        "text/html": "Total execution time: 00:00:00.026"
                    },
                    "metadata": {}
                },
                {
                    "output_type": "execute_result",
                    "execution_count": 57,
                    "data": {
                        "application/vnd.dataresource+json": {
                            "schema": {
                                "fields": [
                                    {
                                        "name": "Max készlet"
                                    },
                                    {
                                        "name": "Termék neve"
                                    }
                                ]
                            },
                            "data": [
                                {
                                    "Max készlet": "50000",
                                    "Termék neve": "Ajándék cs. tasak kicsi"
                                },
                                {
                                    "Max készlet": "50000",
                                    "Termék neve": "Golyóstoll levélbontós"
                                },
                                {
                                    "Max készlet": "40000",
                                    "Termék neve": "Díszkötöző szalag vékony"
                                },
                                {
                                    "Max készlet": "35000",
                                    "Termék neve": "Golyóstoll UNIBALL 07"
                                },
                                {
                                    "Max készlet": "30000",
                                    "Termék neve": "Golyóstoll UNI gumis"
                                }
                            ]
                        },
                        "text/html": "<table><tr><th>Max készlet</th><th>Termék neve</th></tr><tr><td>50000</td><td>Ajándék cs. tasak kicsi</td></tr><tr><td>50000</td><td>Golyóstoll levélbontós</td></tr><tr><td>40000</td><td>Díszkötöző szalag vékony</td></tr><tr><td>35000</td><td>Golyóstoll UNIBALL 07</td></tr><tr><td>30000</td><td>Golyóstoll UNI gumis</td></tr></table>"
                    },
                    "metadata": {}
                }
            ],
            "execution_count": 57
        },
        {
            "cell_type": "code",
            "source": [
                "SELECT k.KAT_NEV AS 'Kategória név',\r\n",
                "        ROUND(AVG(t.KESZLET),0) AS 'Átlagos készlet'\r\n",
                "FROM Termek t JOIN Termekkategoria k ON t.KAT_ID = k.KAT_ID\r\n",
                "GROUP BY k.KAT_NEV\r\n",
                "ORDER BY ROUND(AVG(t.KESZLET),0)\r\n",
                ""
            ],
            "metadata": {
                "azdata_cell_guid": "7ddf5b1d-c658-4cc8-abb9-190dea6f2171",
                "language": "sql"
            },
            "outputs": [
                {
                    "output_type": "display_data",
                    "data": {
                        "text/html": "(143 rows affected)"
                    },
                    "metadata": {}
                },
                {
                    "output_type": "display_data",
                    "data": {
                        "text/html": "Total execution time: 00:00:00.043"
                    },
                    "metadata": {}
                },
                {
                    "output_type": "execute_result",
                    "execution_count": 62,
                    "data": {
                        "application/vnd.dataresource+json": {
                            "schema": {
                                "fields": [
                                    {
                                        "name": "Kategória név"
                                    },
                                    {
                                        "name": "Átlagos készlet"
                                    }
                                ]
                            },
                            "data": [
                                {
                                    "Kategória név": "női kabát",
                                    "Átlagos készlet": "77"
                                },
                                {
                                    "Kategória név": "sál",
                                    "Átlagos készlet": "77"
                                },
                                {
                                    "Kategória név": "strandlabda",
                                    "Átlagos készlet": "100"
                                },
                                {
                                    "Kategória név": "tempera",
                                    "Átlagos készlet": "100"
                                },
                                {
                                    "Kategória név": "térképtű",
                                    "Átlagos készlet": "100"
                                },
                                {
                                    "Kategória név": "toner",
                                    "Átlagos készlet": "100"
                                },
                                {
                                    "Kategória név": "vízfesték",
                                    "Átlagos készlet": "100"
                                },
                                {
                                    "Kategória név": "árazószalag",
                                    "Átlagos készlet": "100"
                                },
                                {
                                    "Kategória név": "előlap",
                                    "Átlagos készlet": "100"
                                },
                                {
                                    "Kategória név": "fólia",
                                    "Átlagos készlet": "100"
                                },
                                {
                                    "Kategória név": "írásvetítő fólia",
                                    "Átlagos készlet": "100"
                                },
                                {
                                    "Kategória név": "gémkapocs",
                                    "Átlagos készlet": "150"
                                },
                                {
                                    "Kategória név": "indigó",
                                    "Átlagos készlet": "150"
                                },
                                {
                                    "Kategória név": "hegyző",
                                    "Átlagos készlet": "150"
                                },
                                {
                                    "Kategória név": "csomagoló",
                                    "Átlagos készlet": "150"
                                },
                                {
                                    "Kategória név": "celofán",
                                    "Átlagos készlet": "150"
                                },
                                {
                                    "Kategória név": "beírókönyv",
                                    "Átlagos készlet": "150"
                                },
                                {
                                    "Kategória név": "kreatív",
                                    "Átlagos készlet": "150"
                                },
                                {
                                    "Kategória név": "szögmérő",
                                    "Átlagos készlet": "167"
                                },
                                {
                                    "Kategória név": "díszdoboz",
                                    "Átlagos készlet": "167"
                                },
                                {
                                    "Kategória név": "férfi kabát",
                                    "Átlagos készlet": "173"
                                },
                                {
                                    "Kategória név": "meghívó",
                                    "Átlagos készlet": "175"
                                },
                                {
                                    "Kategória név": "olló",
                                    "Átlagos készlet": "200"
                                },
                                {
                                    "Kategória név": "pausz",
                                    "Átlagos készlet": "200"
                                },
                                {
                                    "Kategória név": "pénztárgépszalag",
                                    "Átlagos készlet": "200"
                                },
                                {
                                    "Kategória név": "zászló",
                                    "Átlagos készlet": "200"
                                },
                                {
                                    "Kategória név": "tintapatron",
                                    "Átlagos készlet": "200"
                                },
                                {
                                    "Kategória név": "toll",
                                    "Átlagos készlet": "200"
                                },
                                {
                                    "Kategória név": "emléklap",
                                    "Átlagos készlet": "200"
                                },
                                {
                                    "Kategória név": "átírótömb",
                                    "Átlagos készlet": "200"
                                },
                                {
                                    "Kategória név": "beíró",
                                    "Átlagos készlet": "200"
                                },
                                {
                                    "Kategória név": "fotópapír",
                                    "Átlagos készlet": "200"
                                },
                                {
                                    "Kategória név": "ironbél",
                                    "Átlagos készlet": "220"
                                },
                                {
                                    "Kategória név": "gyermek póló",
                                    "Átlagos készlet": "234"
                                },
                                {
                                    "Kategória név": "gyermek kabát",
                                    "Átlagos készlet": "237"
                                },
                                {
                                    "Kategória név": "férfi nadrág",
                                    "Átlagos készlet": "247"
                                },
                                {
                                    "Kategória név": "gyermek nadrág",
                                    "Átlagos készlet": "248"
                                },
                                {
                                    "Kategória név": "írólap",
                                    "Átlagos készlet": "250"
                                },
                                {
                                    "Kategória név": "számológép",
                                    "Átlagos készlet": "250"
                                },
                                {
                                    "Kategória név": "hibajavító",
                                    "Átlagos készlet": "271"
                                },
                                {
                                    "Kategória név": "gyermek cipő",
                                    "Átlagos készlet": "286"
                                },
                                {
                                    "Kategória név": "női nadrág",
                                    "Átlagos készlet": "289"
                                },
                                {
                                    "Kategória név": "ceruza",
                                    "Átlagos készlet": "295"
                                },
                                {
                                    "Kategória név": "fax papír",
                                    "Átlagos készlet": "300"
                                },
                                {
                                    "Kategória név": "hűtőmágnes",
                                    "Átlagos készlet": "300"
                                },
                                {
                                    "Kategória név": "irodaszer",
                                    "Átlagos készlet": "300"
                                },
                                {
                                    "Kategória név": "naptár",
                                    "Átlagos készlet": "300"
                                },
                                {
                                    "Kategória név": "szemetes",
                                    "Átlagos készlet": "300"
                                },
                                {
                                    "Kategória név": "töltőtoll",
                                    "Átlagos készlet": "300"
                                },
                                {
                                    "Kategória név": "spirál",
                                    "Átlagos készlet": "300"
                                },
                                {
                                    "Kategória név": "alkalmi",
                                    "Átlagos készlet": "302"
                                },
                                {
                                    "Kategória név": "kosztüm",
                                    "Átlagos készlet": "304"
                                },
                                {
                                    "Kategória név": "füzetborító",
                                    "Átlagos készlet": "314"
                                },
                                {
                                    "Kategória név": "fehérnemű",
                                    "Átlagos készlet": "324"
                                },
                                {
                                    "Kategória név": "játékautó",
                                    "Átlagos készlet": "350"
                                },
                                {
                                    "Kategória név": "pénztárbizonylat",
                                    "Átlagos készlet": "350"
                                },
                                {
                                    "Kategória név": "regiszteres füzet",
                                    "Átlagos készlet": "350"
                                },
                                {
                                    "Kategória név": "filctoll",
                                    "Átlagos készlet": "354"
                                },
                                {
                                    "Kategória név": "szövegkiemelő",
                                    "Átlagos készlet": "360"
                                },
                                {
                                    "Kategória név": "férfi ing",
                                    "Átlagos készlet": "381"
                                },
                                {
                                    "Kategória név": "dipa",
                                    "Átlagos készlet": "400"
                                },
                                {
                                    "Kategória név": "címke",
                                    "Átlagos készlet": "400"
                                },
                                {
                                    "Kategória név": "cd tok",
                                    "Átlagos készlet": "400"
                                },
                                {
                                    "Kategória név": "gumigyűrű",
                                    "Átlagos készlet": "400"
                                },
                                {
                                    "Kategória név": "rágógumi",
                                    "Átlagos készlet": "400"
                                },
                                {
                                    "Kategória név": "rajzszeg",
                                    "Átlagos készlet": "400"
                                },
                                {
                                    "Kategória név": "miliméterpapír",
                                    "Átlagos készlet": "400"
                                },
                                {
                                    "Kategória név": "fénymásoló papír",
                                    "Átlagos készlet": "440"
                                },
                                {
                                    "Kategória név": "ragasztószalag",
                                    "Átlagos készlet": "475"
                                },
                                {
                                    "Kategória név": "táblafilc",
                                    "Átlagos készlet": "500"
                                },
                                {
                                    "Kategória név": "lyukasztó",
                                    "Átlagos készlet": "500"
                                },
                                {
                                    "Kategória név": "floppy",
                                    "Átlagos készlet": "500"
                                },
                                {
                                    "Kategória név": "genoterm",
                                    "Átlagos készlet": "500"
                                },
                                {
                                    "Kategória név": "irattartó",
                                    "Átlagos készlet": "500"
                                },
                                {
                                    "Kategória név": "vonalzó",
                                    "Átlagos készlet": "533"
                                },
                                {
                                    "Kategória név": "labda",
                                    "Átlagos készlet": "550"
                                },
                                {
                                    "Kategória név": "bélyegző",
                                    "Átlagos készlet": "575"
                                },
                                {
                                    "Kategória név": "color copy",
                                    "Átlagos készlet": "580"
                                },
                                {
                                    "Kategória név": "öntapadó",
                                    "Átlagos készlet": "600"
                                },
                                {
                                    "Kategória név": "hegyező",
                                    "Átlagos készlet": "675"
                                },
                                {
                                    "Kategória név": "gyurma",
                                    "Átlagos készlet": "675"
                                },
                                {
                                    "Kategória név": "hajgumi",
                                    "Átlagos készlet": "700"
                                },
                                {
                                    "Kategória név": "iratgyűjtő",
                                    "Átlagos készlet": "700"
                                },
                                {
                                    "Kategória név": "bélyegzőfesték",
                                    "Átlagos készlet": "700"
                                },
                                {
                                    "Kategória név": "szalvéta",
                                    "Átlagos készlet": "700"
                                },
                                {
                                    "Kategória név": "levélpapír",
                                    "Átlagos készlet": "786"
                                },
                                {
                                    "Kategória név": "jelzőkréta",
                                    "Átlagos készlet": "800"
                                },
                                {
                                    "Kategória név": "gyorsfűző",
                                    "Átlagos készlet": "800"
                                },
                                {
                                    "Kategória név": "iskolaszer",
                                    "Átlagos készlet": "802"
                                },
                                {
                                    "Kategória név": "könyv",
                                    "Átlagos készlet": "833"
                                },
                                {
                                    "Kategória név": "álarc",
                                    "Átlagos készlet": "833"
                                },
                                {
                                    "Kategória név": "tolltartó",
                                    "Átlagos készlet": "843"
                                },
                                {
                                    "Kategória név": "post-it",
                                    "Átlagos készlet": "850"
                                },
                                {
                                    "Kategória név": "körző",
                                    "Átlagos készlet": "867"
                                },
                                {
                                    "Kategória név": "plüss",
                                    "Átlagos készlet": "867"
                                },
                                {
                                    "Kategória név": "karton",
                                    "Átlagos készlet": "883"
                                },
                                {
                                    "Kategória név": "festékpatron",
                                    "Átlagos készlet": "900"
                                },
                                {
                                    "Kategória név": "iratrendező",
                                    "Átlagos készlet": "900"
                                },
                                {
                                    "Kategória név": "matrica",
                                    "Átlagos készlet": "990"
                                },
                                {
                                    "Kategória név": "ofszet",
                                    "Átlagos készlet": "1000"
                                },
                                {
                                    "Kategória név": "képkirakó",
                                    "Átlagos készlet": "1000"
                                },
                                {
                                    "Kategória név": "radírtoll",
                                    "Átlagos készlet": "1000"
                                },
                                {
                                    "Kategória név": "tollbetét",
                                    "Átlagos készlet": "1022"
                                },
                                {
                                    "Kategória név": "csomagoló papír",
                                    "Átlagos készlet": "1029"
                                },
                                {
                                    "Kategória név": "gyűrűskönyv",
                                    "Átlagos készlet": "1080"
                                },
                                {
                                    "Kategória név": "füzettartó",
                                    "Átlagos készlet": "1200"
                                },
                                {
                                    "Kategória név": "füzet",
                                    "Átlagos készlet": "1264"
                                },
                                {
                                    "Kategória név": "dvd",
                                    "Átlagos készlet": "1300"
                                },
                                {
                                    "Kategória név": "kapocskiszedő",
                                    "Átlagos készlet": "1300"
                                },
                                {
                                    "Kategória név": "ecset",
                                    "Átlagos készlet": "1371"
                                },
                                {
                                    "Kategória név": "radír",
                                    "Átlagos készlet": "1471"
                                },
                                {
                                    "Kategória név": "ajándék tárgy",
                                    "Átlagos készlet": "1500"
                                },
                                {
                                    "Kategória név": "képeslap",
                                    "Átlagos készlet": "1531"
                                },
                                {
                                    "Kategória név": "iratsín",
                                    "Átlagos készlet": "1550"
                                },
                                {
                                    "Kategória név": "ragasztó",
                                    "Átlagos készlet": "1590"
                                },
                                {
                                    "Kategória név": "rajzlap",
                                    "Átlagos készlet": "1600"
                                },
                                {
                                    "Kategória név": "tapétavágó",
                                    "Átlagos készlet": "1600"
                                },
                                {
                                    "Kategória név": "határidő napló",
                                    "Átlagos készlet": "1650"
                                },
                                {
                                    "Kategória név": "notesz",
                                    "Átlagos készlet": "1720"
                                },
                                {
                                    "Kategória név": "műnyomó",
                                    "Átlagos készlet": "1800"
                                },
                                {
                                    "Kategória név": "gemkapocs",
                                    "Átlagos készlet": "1800"
                                },
                                {
                                    "Kategória név": "dekor",
                                    "Átlagos készlet": "1975"
                                },
                                {
                                    "Kategória név": "munkafüzet",
                                    "Átlagos készlet": "2056"
                                },
                                {
                                    "Kategória név": "kulcstartó",
                                    "Átlagos készlet": "2101"
                                },
                                {
                                    "Kategória név": "tűzőgép",
                                    "Átlagos készlet": "2133"
                                },
                                {
                                    "Kategória név": "genotherm",
                                    "Átlagos készlet": "2133"
                                },
                                {
                                    "Kategória név": "lufi",
                                    "Átlagos készlet": "2150"
                                },
                                {
                                    "Kategória név": "tűzőkapocs",
                                    "Átlagos készlet": "2250"
                                },
                                {
                                    "Kategória név": "boríték",
                                    "Átlagos készlet": "2414"
                                },
                                {
                                    "Kategória név": "mappa",
                                    "Átlagos készlet": "2567"
                                },
                                {
                                    "Kategória név": "színes",
                                    "Átlagos készlet": "2600"
                                },
                                {
                                    "Kategória név": "kártya",
                                    "Átlagos készlet": "2800"
                                },
                                {
                                    "Kategória név": "alufólia",
                                    "Átlagos készlet": "3000"
                                },
                                {
                                    "Kategória név": "zseléstoll",
                                    "Átlagos készlet": "3025"
                                },
                                {
                                    "Kategória név": "oklevél",
                                    "Átlagos készlet": "3400"
                                },
                                {
                                    "Kategória név": "emlékkönyv",
                                    "Átlagos készlet": "3900"
                                },
                                {
                                    "Kategória név": "naptárhát",
                                    "Átlagos készlet": "4150"
                                },
                                {
                                    "Kategória név": "ajándék tasak",
                                    "Átlagos készlet": "4250"
                                },
                                {
                                    "Kategória név": "papízsebkendő",
                                    "Átlagos készlet": "5000"
                                },
                                {
                                    "Kategória név": "golyóstoll",
                                    "Átlagos készlet": "6212"
                                },
                                {
                                    "Kategória név": "névjegytartó",
                                    "Átlagos készlet": "9000"
                                },
                                {
                                    "Kategória név": "pixiron",
                                    "Átlagos készlet": "9800"
                                },
                                {
                                    "Kategória név": "díszkötöző",
                                    "Átlagos készlet": "13400"
                                }
                            ]
                        },
                        "text/html": "<table><tr><th>Kategória név</th><th>Átlagos készlet</th></tr><tr><td>női kabát</td><td>77</td></tr><tr><td>sál</td><td>77</td></tr><tr><td>strandlabda</td><td>100</td></tr><tr><td>tempera</td><td>100</td></tr><tr><td>térképtű</td><td>100</td></tr><tr><td>toner</td><td>100</td></tr><tr><td>vízfesték</td><td>100</td></tr><tr><td>árazószalag</td><td>100</td></tr><tr><td>előlap</td><td>100</td></tr><tr><td>fólia</td><td>100</td></tr><tr><td>írásvetítő fólia</td><td>100</td></tr><tr><td>gémkapocs</td><td>150</td></tr><tr><td>indigó</td><td>150</td></tr><tr><td>hegyző</td><td>150</td></tr><tr><td>csomagoló</td><td>150</td></tr><tr><td>celofán</td><td>150</td></tr><tr><td>beírókönyv</td><td>150</td></tr><tr><td>kreatív</td><td>150</td></tr><tr><td>szögmérő</td><td>167</td></tr><tr><td>díszdoboz</td><td>167</td></tr><tr><td>férfi kabát</td><td>173</td></tr><tr><td>meghívó</td><td>175</td></tr><tr><td>olló</td><td>200</td></tr><tr><td>pausz</td><td>200</td></tr><tr><td>pénztárgépszalag</td><td>200</td></tr><tr><td>zászló</td><td>200</td></tr><tr><td>tintapatron</td><td>200</td></tr><tr><td>toll</td><td>200</td></tr><tr><td>emléklap</td><td>200</td></tr><tr><td>átírótömb</td><td>200</td></tr><tr><td>beíró</td><td>200</td></tr><tr><td>fotópapír</td><td>200</td></tr><tr><td>ironbél</td><td>220</td></tr><tr><td>gyermek póló</td><td>234</td></tr><tr><td>gyermek kabát</td><td>237</td></tr><tr><td>férfi nadrág</td><td>247</td></tr><tr><td>gyermek nadrág</td><td>248</td></tr><tr><td>írólap</td><td>250</td></tr><tr><td>számológép</td><td>250</td></tr><tr><td>hibajavító</td><td>271</td></tr><tr><td>gyermek cipő</td><td>286</td></tr><tr><td>női nadrág</td><td>289</td></tr><tr><td>ceruza</td><td>295</td></tr><tr><td>fax papír</td><td>300</td></tr><tr><td>hűtőmágnes</td><td>300</td></tr><tr><td>irodaszer</td><td>300</td></tr><tr><td>naptár</td><td>300</td></tr><tr><td>szemetes</td><td>300</td></tr><tr><td>töltőtoll</td><td>300</td></tr><tr><td>spirál</td><td>300</td></tr><tr><td>alkalmi</td><td>302</td></tr><tr><td>kosztüm</td><td>304</td></tr><tr><td>füzetborító</td><td>314</td></tr><tr><td>fehérnemű</td><td>324</td></tr><tr><td>játékautó</td><td>350</td></tr><tr><td>pénztárbizonylat</td><td>350</td></tr><tr><td>regiszteres füzet</td><td>350</td></tr><tr><td>filctoll</td><td>354</td></tr><tr><td>szövegkiemelő</td><td>360</td></tr><tr><td>férfi ing</td><td>381</td></tr><tr><td>dipa</td><td>400</td></tr><tr><td>címke</td><td>400</td></tr><tr><td>cd tok</td><td>400</td></tr><tr><td>gumigyűrű</td><td>400</td></tr><tr><td>rágógumi</td><td>400</td></tr><tr><td>rajzszeg</td><td>400</td></tr><tr><td>miliméterpapír</td><td>400</td></tr><tr><td>fénymásoló papír</td><td>440</td></tr><tr><td>ragasztószalag</td><td>475</td></tr><tr><td>táblafilc</td><td>500</td></tr><tr><td>lyukasztó</td><td>500</td></tr><tr><td>floppy</td><td>500</td></tr><tr><td>genoterm</td><td>500</td></tr><tr><td>irattartó</td><td>500</td></tr><tr><td>vonalzó</td><td>533</td></tr><tr><td>labda</td><td>550</td></tr><tr><td>bélyegző</td><td>575</td></tr><tr><td>color copy</td><td>580</td></tr><tr><td>öntapadó</td><td>600</td></tr><tr><td>hegyező</td><td>675</td></tr><tr><td>gyurma</td><td>675</td></tr><tr><td>hajgumi</td><td>700</td></tr><tr><td>iratgyűjtő</td><td>700</td></tr><tr><td>bélyegzőfesték</td><td>700</td></tr><tr><td>szalvéta</td><td>700</td></tr><tr><td>levélpapír</td><td>786</td></tr><tr><td>jelzőkréta</td><td>800</td></tr><tr><td>gyorsfűző</td><td>800</td></tr><tr><td>iskolaszer</td><td>802</td></tr><tr><td>könyv</td><td>833</td></tr><tr><td>álarc</td><td>833</td></tr><tr><td>tolltartó</td><td>843</td></tr><tr><td>post-it</td><td>850</td></tr><tr><td>körző</td><td>867</td></tr><tr><td>plüss</td><td>867</td></tr><tr><td>karton</td><td>883</td></tr><tr><td>festékpatron</td><td>900</td></tr><tr><td>iratrendező</td><td>900</td></tr><tr><td>matrica</td><td>990</td></tr><tr><td>ofszet</td><td>1000</td></tr><tr><td>képkirakó</td><td>1000</td></tr><tr><td>radírtoll</td><td>1000</td></tr><tr><td>tollbetét</td><td>1022</td></tr><tr><td>csomagoló papír</td><td>1029</td></tr><tr><td>gyűrűskönyv</td><td>1080</td></tr><tr><td>füzettartó</td><td>1200</td></tr><tr><td>füzet</td><td>1264</td></tr><tr><td>dvd</td><td>1300</td></tr><tr><td>kapocskiszedő</td><td>1300</td></tr><tr><td>ecset</td><td>1371</td></tr><tr><td>radír</td><td>1471</td></tr><tr><td>ajándék tárgy</td><td>1500</td></tr><tr><td>képeslap</td><td>1531</td></tr><tr><td>iratsín</td><td>1550</td></tr><tr><td>ragasztó</td><td>1590</td></tr><tr><td>rajzlap</td><td>1600</td></tr><tr><td>tapétavágó</td><td>1600</td></tr><tr><td>határidő napló</td><td>1650</td></tr><tr><td>notesz</td><td>1720</td></tr><tr><td>műnyomó</td><td>1800</td></tr><tr><td>gemkapocs</td><td>1800</td></tr><tr><td>dekor</td><td>1975</td></tr><tr><td>munkafüzet</td><td>2056</td></tr><tr><td>kulcstartó</td><td>2101</td></tr><tr><td>tűzőgép</td><td>2133</td></tr><tr><td>genotherm</td><td>2133</td></tr><tr><td>lufi</td><td>2150</td></tr><tr><td>tűzőkapocs</td><td>2250</td></tr><tr><td>boríték</td><td>2414</td></tr><tr><td>mappa</td><td>2567</td></tr><tr><td>színes</td><td>2600</td></tr><tr><td>kártya</td><td>2800</td></tr><tr><td>alufólia</td><td>3000</td></tr><tr><td>zseléstoll</td><td>3025</td></tr><tr><td>oklevél</td><td>3400</td></tr><tr><td>emlékkönyv</td><td>3900</td></tr><tr><td>naptárhát</td><td>4150</td></tr><tr><td>ajándék tasak</td><td>4250</td></tr><tr><td>papízsebkendő</td><td>5000</td></tr><tr><td>golyóstoll</td><td>6212</td></tr><tr><td>névjegytartó</td><td>9000</td></tr><tr><td>pixiron</td><td>9800</td></tr><tr><td>díszkötöző</td><td>13400</td></tr></table>"
                    },
                    "metadata": {}
                }
            ],
            "execution_count": 62
        },
        {
            "cell_type": "code",
            "source": [
                "SELECT ROUND(AVG(LISTAAR), 2) AS 'Átlagos listaár',\r\n",
                "        ROUND(STDEV(LISTAAR), 2) AS 'Szórás',\r\n",
                "        MIN(LISTAAR) AS 'Min listaár',\r\n",
                "        MAX(LISTAAR) AS 'Max listaár'     \r\n",
                "FROM Termek"
            ],
            "metadata": {
                "azdata_cell_guid": "65270a79-62de-47fb-976f-9ff1dd35fc1a",
                "language": "sql"
            },
            "outputs": [
                {
                    "output_type": "display_data",
                    "data": {
                        "text/html": "(1 row affected)"
                    },
                    "metadata": {}
                },
                {
                    "output_type": "display_data",
                    "data": {
                        "text/html": "Total execution time: 00:00:00.024"
                    },
                    "metadata": {}
                },
                {
                    "output_type": "execute_result",
                    "execution_count": 33,
                    "data": {
                        "application/vnd.dataresource+json": {
                            "schema": {
                                "fields": [
                                    {
                                        "name": "Átlagos listaár"
                                    },
                                    {
                                        "name": "Szórás"
                                    },
                                    {
                                        "name": "Min listaár"
                                    },
                                    {
                                        "name": "Max listaár"
                                    }
                                ]
                            },
                            "data": [
                                {
                                    "Átlagos listaár": "786,28",
                                    "Szórás": "3602,48",
                                    "Min listaár": "0",
                                    "Max listaár": "46000"
                                }
                            ]
                        },
                        "text/html": "<table><tr><th>Átlagos listaár</th><th>Szórás</th><th>Min listaár</th><th>Max listaár</th></tr><tr><td>786,28</td><td>3602,48</td><td>0</td><td>46000</td></tr></table>"
                    },
                    "metadata": {}
                }
            ],
            "execution_count": 33
        },
        {
            "cell_type": "code",
            "source": [
                "SELECT TOP 5 LISTAAR AS 'Top 5 min listaár',\r\n",
                "        MEGNEVEZES AS 'Termék neve'\r\n",
                "FROM Termek\r\n",
                "ORDER BY LISTAAR"
            ],
            "metadata": {
                "azdata_cell_guid": "cc58d0a3-8f44-43c5-97b8-3b78ad5cf05b",
                "language": "sql"
            },
            "outputs": [
                {
                    "output_type": "display_data",
                    "data": {
                        "text/html": "(5 rows affected)"
                    },
                    "metadata": {}
                },
                {
                    "output_type": "display_data",
                    "data": {
                        "text/html": "Total execution time: 00:00:00.021"
                    },
                    "metadata": {}
                },
                {
                    "output_type": "execute_result",
                    "execution_count": 49,
                    "data": {
                        "application/vnd.dataresource+json": {
                            "schema": {
                                "fields": [
                                    {
                                        "name": "Top 5 min listaár"
                                    },
                                    {
                                        "name": "Termék neve"
                                    }
                                ]
                            },
                            "data": [
                                {
                                    "Top 5 min listaár": "0",
                                    "Termék neve": "Filctoll CD író"
                                },
                                {
                                    "Top 5 min listaár": "3",
                                    "Termék neve": "Műnyomó 300g 17,5*20"
                                },
                                {
                                    "Top 5 min listaár": "3",
                                    "Termék neve": "Boríték LC 6"
                                },
                                {
                                    "Top 5 min listaár": "3",
                                    "Termék neve": "Műanyag pohár 1 dl-es"
                                },
                                {
                                    "Top 5 min listaár": "4",
                                    "Termék neve": "Kreatív A/4 300g "
                                }
                            ]
                        },
                        "text/html": "<table><tr><th>Top 5 min listaár</th><th>Termék neve</th></tr><tr><td>0</td><td>Filctoll CD író</td></tr><tr><td>3</td><td>Műnyomó 300g 17,5*20</td></tr><tr><td>3</td><td>Boríték LC 6</td></tr><tr><td>3</td><td>Műanyag pohár 1 dl-es</td></tr><tr><td>4</td><td>Kreatív A/4 300g </td></tr></table>"
                    },
                    "metadata": {}
                }
            ],
            "execution_count": 49
        },
        {
            "cell_type": "code",
            "source": [
                "SELECT TOP 5 LISTAAR AS 'Top 5 max listaár',\r\n",
                "        MEGNEVEZES AS 'Termék neve'\r\n",
                "FROM Termek\r\n",
                "ORDER BY LISTAAR DESC"
            ],
            "metadata": {
                "azdata_cell_guid": "8c337ba9-7e6f-422f-ad84-ed1f705c13c1",
                "language": "sql"
            },
            "outputs": [
                {
                    "output_type": "display_data",
                    "data": {
                        "text/html": "(5 rows affected)"
                    },
                    "metadata": {}
                },
                {
                    "output_type": "display_data",
                    "data": {
                        "text/html": "Total execution time: 00:00:00.025"
                    },
                    "metadata": {}
                },
                {
                    "output_type": "execute_result",
                    "execution_count": 40,
                    "data": {
                        "application/vnd.dataresource+json": {
                            "schema": {
                                "fields": [
                                    {
                                        "name": "Top 5 max listaár"
                                    },
                                    {
                                        "name": "MEGNEVEZES"
                                    }
                                ]
                            },
                            "data": [
                                {
                                    "Top 5 max listaár": "46000",
                                    "MEGNEVEZES": "kosztüm (hosszú)"
                                },
                                {
                                    "Top 5 max listaár": "39000",
                                    "MEGNEVEZES": "kosztüm (rövid)"
                                },
                                {
                                    "Top 5 max listaár": "32000",
                                    "MEGNEVEZES": "női koktélruha"
                                },
                                {
                                    "Top 5 max listaár": "24000",
                                    "MEGNEVEZES": "női szövet kabát"
                                },
                                {
                                    "Top 5 max listaár": "22000",
                                    "MEGNEVEZES": "férfi szövet kabát"
                                }
                            ]
                        },
                        "text/html": "<table><tr><th>Top 5 max listaár</th><th>MEGNEVEZES</th></tr><tr><td>46000</td><td>kosztüm (hosszú)</td></tr><tr><td>39000</td><td>kosztüm (rövid)</td></tr><tr><td>32000</td><td>női koktélruha</td></tr><tr><td>24000</td><td>női szövet kabát</td></tr><tr><td>22000</td><td>férfi szövet kabát</td></tr></table>"
                    },
                    "metadata": {}
                }
            ],
            "execution_count": 40
        },
        {
            "cell_type": "code",
            "source": [
                "SELECT FELVITTE AS 'Felvivő', \r\n",
                "    COUNT(*) AS 'Felvitt sorok száma'\r\n",
                "from Termek\r\n",
                "WHERE FELVITTE IS NOT null\r\n",
                "GROUP BY FELVITTE\r\n",
                "ORDER BY FELVITTE"
            ],
            "metadata": {
                "azdata_cell_guid": "0b3415b5-0260-4164-abce-0b122b59b9db",
                "language": "sql"
            },
            "outputs": [
                {
                    "output_type": "display_data",
                    "data": {
                        "text/html": "(3 rows affected)"
                    },
                    "metadata": {}
                },
                {
                    "output_type": "display_data",
                    "data": {
                        "text/html": "Total execution time: 00:00:00.025"
                    },
                    "metadata": {}
                },
                {
                    "output_type": "execute_result",
                    "execution_count": 38,
                    "data": {
                        "application/vnd.dataresource+json": {
                            "schema": {
                                "fields": [
                                    {
                                        "name": "Felvivő"
                                    },
                                    {
                                        "name": "Felvitt sorok száma"
                                    }
                                ]
                            },
                            "data": [
                                {
                                    "Felvivő": "Béla",
                                    "Felvitt sorok száma": "189"
                                },
                                {
                                    "Felvivő": "Mari",
                                    "Felvitt sorok száma": "174"
                                },
                                {
                                    "Felvivő": "Sára",
                                    "Felvitt sorok száma": "188"
                                }
                            ]
                        },
                        "text/html": "<table><tr><th>Felvivő</th><th>Felvitt sorok száma</th></tr><tr><td>Béla</td><td>189</td></tr><tr><td>Mari</td><td>174</td></tr><tr><td>Sára</td><td>188</td></tr></table>"
                    },
                    "metadata": {}
                }
            ],
            "execution_count": 38
        }
    ]
}